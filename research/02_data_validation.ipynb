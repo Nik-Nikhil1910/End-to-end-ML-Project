{
 "cells": [
  {
   "cell_type": "code",
   "execution_count": 1,
   "metadata": {},
   "outputs": [],
   "source": [
    "import os "
   ]
  },
  {
   "cell_type": "code",
   "execution_count": 2,
   "metadata": {},
   "outputs": [
    {
     "data": {
      "text/plain": [
       "'c:\\\\Users\\\\asus\\\\OneDrive\\\\Desktop\\\\Pandas app\\\\End-to-end-ML-Project\\\\research'"
      ]
     },
     "execution_count": 2,
     "metadata": {},
     "output_type": "execute_result"
    }
   ],
   "source": [
    "%pwd"
   ]
  },
  {
   "cell_type": "code",
   "execution_count": 3,
   "metadata": {},
   "outputs": [],
   "source": [
    "os.chdir(\"../\")"
   ]
  },
  {
   "cell_type": "code",
   "execution_count": 4,
   "metadata": {},
   "outputs": [
    {
     "data": {
      "text/plain": [
       "'c:\\\\Users\\\\asus\\\\OneDrive\\\\Desktop\\\\Pandas app\\\\End-to-end-ML-Project'"
      ]
     },
     "execution_count": 4,
     "metadata": {},
     "output_type": "execute_result"
    }
   ],
   "source": [
    "%pwd"
   ]
  },
  {
   "cell_type": "code",
   "execution_count": 5,
   "metadata": {},
   "outputs": [],
   "source": [
    "from dataclasses import dataclass\n",
    "from pathlib import Path\n",
    "\n",
    "\n",
    "@dataclass(frozen=True)\n",
    "class DataValidationConfig:\n",
    "    root_dir: Path\n",
    "    status_file: str\n",
    "    unzip_data_dir: Path\n",
    "    all_schema: dict"
   ]
  },
  {
   "cell_type": "code",
   "execution_count": 6,
   "metadata": {},
   "outputs": [],
   "source": [
    "from src.mlProject.constants import *\n",
    "from src.mlProject.utils.common import read_yaml,create_directories"
   ]
  },
  {
   "cell_type": "code",
   "execution_count": 28,
   "metadata": {},
   "outputs": [],
   "source": [
    "class ConfigurationManager:\n",
    "    def __init__(\n",
    "        self,\n",
    "        config_filepath = CONFIG_FILE_PATH,\n",
    "        params_filepath = PARAMS_FILE_PATH,\n",
    "        schema_filepath = SCHEMA_FILE_PATH):\n",
    "\n",
    "        self.config = read_yaml(config_filepath)\n",
    "        self.params = read_yaml(params_filepath)\n",
    "        self.schema = read_yaml(schema_filepath)\n",
    "\n",
    "        create_directories([self.config.artifacts_root])\n",
    "\n",
    "\n",
    "    def get_data_Validation_config(self) -> DataValidationConfig:\n",
    "        config = self.config.data_validation\n",
    "        schema=self.schema.COLUMNS\n",
    "        create_directories([config.root_dir])\n",
    "\n",
    "        data_validation_config = DataValidationConfig(\n",
    "            root_dir=config.root_dir,\n",
    "            status_file=config.STATUS_FILE,\n",
    "            unzip_data_dir=config.unzip_data_dir,\n",
    "            all_schema=schema\n",
    "        )\n",
    "\n",
    "        return data_validation_config"
   ]
  },
  {
   "cell_type": "code",
   "execution_count": 29,
   "metadata": {},
   "outputs": [],
   "source": [
    "import os\n",
    "from mlProject import logger\n",
    "import pandas as pd"
   ]
  },
  {
   "cell_type": "code",
   "execution_count": 43,
   "metadata": {},
   "outputs": [],
   "source": [
    "class DataValidation:\n",
    "    def __init__(self, config: DataValidationConfig):\n",
    "        self.config=config\n",
    "    def validate_all_cols(self)->bool:\n",
    "        try:\n",
    "            validation_status=None\n",
    "            data=pd.read_csv(self.config.unzip_data_dir)\n",
    "            all_cols=list(data.columns)\n",
    "            all_schema=list(self.config.all_schema.keys())\n",
    "            for col in all_cols:\n",
    "                if col not in all_schema:\n",
    "                    validation_status=False\n",
    "                    with open(self.config.status_file,'w') as file:\n",
    "                        file.write(f\"validation status is: {validation_status}\")\n",
    "                else:\n",
    "                    validation_status=True\n",
    "                    with open(self.config.status_file,'w') as file:\n",
    "                        file.write(f\"validation status is: {validation_status}\")\n",
    "            return validation_status\n",
    "        except Exception as e:\n",
    "            raise e\n"
   ]
  },
  {
   "cell_type": "code",
   "execution_count": 44,
   "metadata": {},
   "outputs": [
    {
     "name": "stdout",
     "output_type": "stream",
     "text": [
      "2024-09-06 14:11:10,190 : INFO : common : yaml file: config\\config.yaml loaded successfully\n",
      "2024-09-06 14:11:10,190 : INFO : common : yaml file: config\\config.yaml loaded successfully\n",
      "2024-09-06 14:11:10,192 : INFO : common : yaml file: params.yaml loaded successfully\n",
      "2024-09-06 14:11:10,192 : INFO : common : yaml file: params.yaml loaded successfully\n",
      "2024-09-06 14:11:10,199 : INFO : common : yaml file: schema.yaml loaded successfully\n",
      "2024-09-06 14:11:10,199 : INFO : common : yaml file: schema.yaml loaded successfully\n",
      "2024-09-06 14:11:10,206 : INFO : common : created directory at: artifacts\n",
      "2024-09-06 14:11:10,206 : INFO : common : created directory at: artifacts\n",
      "2024-09-06 14:11:10,209 : INFO : common : created directory at: artifacts/data_validation\n",
      "2024-09-06 14:11:10,209 : INFO : common : created directory at: artifacts/data_validation\n"
     ]
    }
   ],
   "source": [
    "try:\n",
    "    config = ConfigurationManager()\n",
    "    data_validation_config = config.get_data_Validation_config()\n",
    "    data_validation = DataValidation(config=data_validation_config)\n",
    "    data_validation.validate_all_cols()\n",
    "except Exception as e:\n",
    "    raise e"
   ]
  },
  {
   "cell_type": "code",
   "execution_count": 41,
   "metadata": {},
   "outputs": [],
   "source": [
    "def my_method():\n",
    "    config_1 = ConfigurationManager()\n",
    "    new_obj = config_1.get_data_Validation_config()\n",
    "    print(list(new_obj.all_schema.keys()))\n",
    "    data=pd.read_csv(new_obj.unzip_data_dir)\n",
    "    all_cols=list(data.columns)\n",
    "    print(all_cols)"
   ]
  },
  {
   "cell_type": "code",
   "execution_count": 42,
   "metadata": {},
   "outputs": [
    {
     "name": "stdout",
     "output_type": "stream",
     "text": [
      "2024-09-06 14:05:45,952 : INFO : common : yaml file: config\\config.yaml loaded successfully\n",
      "2024-09-06 14:05:45,952 : INFO : common : yaml file: config\\config.yaml loaded successfully\n",
      "2024-09-06 14:05:45,957 : INFO : common : yaml file: params.yaml loaded successfully\n",
      "2024-09-06 14:05:45,957 : INFO : common : yaml file: params.yaml loaded successfully\n",
      "2024-09-06 14:05:45,962 : INFO : common : yaml file: schema.yaml loaded successfully\n",
      "2024-09-06 14:05:45,962 : INFO : common : yaml file: schema.yaml loaded successfully\n",
      "2024-09-06 14:05:45,966 : INFO : common : created directory at: artifacts\n",
      "2024-09-06 14:05:45,966 : INFO : common : created directory at: artifacts\n",
      "2024-09-06 14:05:45,970 : INFO : common : created directory at: artifacts/data_validation\n",
      "2024-09-06 14:05:45,970 : INFO : common : created directory at: artifacts/data_validation\n",
      "['fixed acidity', 'volatile acidity', 'citric acid', 'residual sugar', 'chlorides', 'free sulfur dioxide', 'total sulfur dioxide', 'density', 'pH', 'sulphates', 'alcohol', 'quality']\n",
      "['fixed acidity', 'volatile acidity', 'citric acid', 'residual sugar', 'chlorides', 'free sulfur dioxide', 'total sulfur dioxide', 'density', 'pH', 'sulphates', 'alcohol', 'quality', 'Id']\n"
     ]
    }
   ],
   "source": [
    "my_method()"
   ]
  },
  {
   "cell_type": "code",
   "execution_count": null,
   "metadata": {},
   "outputs": [],
   "source": []
  }
 ],
 "metadata": {
  "kernelspec": {
   "display_name": "mlproj",
   "language": "python",
   "name": "python3"
  },
  "language_info": {
   "codemirror_mode": {
    "name": "ipython",
    "version": 3
   },
   "file_extension": ".py",
   "mimetype": "text/x-python",
   "name": "python",
   "nbconvert_exporter": "python",
   "pygments_lexer": "ipython3",
   "version": "3.11.5"
  }
 },
 "nbformat": 4,
 "nbformat_minor": 2
}
