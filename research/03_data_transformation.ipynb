{
 "cells": [
  {
   "cell_type": "code",
   "execution_count": 1,
   "metadata": {},
   "outputs": [],
   "source": [
    "import os"
   ]
  },
  {
   "cell_type": "code",
   "execution_count": 2,
   "metadata": {},
   "outputs": [
    {
     "data": {
      "text/plain": [
       "'c:\\\\Users\\\\asus\\\\OneDrive\\\\Desktop\\\\Pandas app\\\\End-to-end-ML-Project\\\\research'"
      ]
     },
     "execution_count": 2,
     "metadata": {},
     "output_type": "execute_result"
    }
   ],
   "source": [
    "%pwd"
   ]
  },
  {
   "cell_type": "code",
   "execution_count": 3,
   "metadata": {},
   "outputs": [],
   "source": [
    "os.chdir(\"../\")"
   ]
  },
  {
   "cell_type": "code",
   "execution_count": 4,
   "metadata": {},
   "outputs": [
    {
     "data": {
      "text/plain": [
       "'c:\\\\Users\\\\asus\\\\OneDrive\\\\Desktop\\\\Pandas app\\\\End-to-end-ML-Project'"
      ]
     },
     "execution_count": 4,
     "metadata": {},
     "output_type": "execute_result"
    }
   ],
   "source": [
    "%pwd"
   ]
  },
  {
   "cell_type": "code",
   "execution_count": 5,
   "metadata": {},
   "outputs": [],
   "source": [
    "from dataclasses import dataclass\n",
    "from pathlib import Path\n",
    "\n",
    "\n",
    "@dataclass(frozen=True)\n",
    "class DataTransformationConfig:\n",
    "    root_dir: Path\n",
    "    data_path: Path"
   ]
  },
  {
   "cell_type": "code",
   "execution_count": 6,
   "metadata": {},
   "outputs": [],
   "source": [
    "from src.mlProject.constants import *\n",
    "from src.mlProject.utils.common import read_yaml,create_directories"
   ]
  },
  {
   "cell_type": "code",
   "execution_count": 7,
   "metadata": {},
   "outputs": [],
   "source": [
    "class ConfigurationManager:\n",
    "    def __init__(\n",
    "        self,\n",
    "        config_filepath = CONFIG_FILE_PATH,\n",
    "        params_filepath = PARAMS_FILE_PATH,\n",
    "        schema_filepath = SCHEMA_FILE_PATH):\n",
    "\n",
    "        self.config = read_yaml(config_filepath)\n",
    "        self.params = read_yaml(params_filepath)\n",
    "        self.schema = read_yaml(schema_filepath)\n",
    "\n",
    "        create_directories([self.config.artifacts_root])\n",
    "\n",
    "\n",
    "    def get_data_Transformation_config(self) -> DataTransformationConfig:\n",
    "        config = self.config.data_transformation\n",
    "       \n",
    "        create_directories([config.root_dir])\n",
    "\n",
    "        data_transformation_config = DataTransformationConfig(\n",
    "            root_dir=config.root_dir,\n",
    "            data_path=config.data_path\n",
    "        )\n",
    "\n",
    "        return data_transformation_config"
   ]
  },
  {
   "cell_type": "code",
   "execution_count": 8,
   "metadata": {},
   "outputs": [],
   "source": [
    "from mlProject import logger\n",
    "import pandas as pd\n",
    "from sklearn.model_selection import train_test_split\n",
    "from sklearn.preprocessing import StandardScaler\n",
    "import numpy as np"
   ]
  },
  {
   "cell_type": "code",
   "execution_count": 13,
   "metadata": {},
   "outputs": [],
   "source": [
    "class DataTransformation:\n",
    "    def __init__(self, config):\n",
    "        self.config = config\n",
    "\n",
    "   \n",
    "    \n",
    "    def remove_skewness(self, skew_threshold=0.75)->pd.DataFrame:\n",
    "        \"\"\"\n",
    "        Applies log transformation to skewed features in the dataset.\n",
    "        \n",
    "        We will read the file here as it will be the first step of our data transformation\n",
    "        \"\"\"\n",
    "        original_data = pd.read_csv(self.config.data_path)\n",
    "        \n",
    "        # Copy the original data to avoid modifying it directly\n",
    "        data_transformed = original_data.copy()\n",
    "\n",
    "        # Identify skewed features\n",
    "        skewed_features = data_transformed.skew().index[data_transformed.skew() > skew_threshold]\n",
    "        \n",
    "        for feature in skewed_features:\n",
    "            # Apply log transformation\n",
    "            data_transformed[feature] = data_transformed[feature].apply(lambda x: np.log1p(x) if x >= 0 else np.nan)\n",
    "            \n",
    "        return data_transformed\n",
    "\n",
    "\n",
    "\n",
    "    def train_test_splitting(self,data):\n",
    "        \n",
    "        # Assuming the last column is the target\n",
    "        X = data.iloc[:, :-1]  # Features\n",
    "        y = data.iloc[:, -1]   # Target\n",
    "\n",
    "        # Split the data into training and test sets\n",
    "        x_train, x_test, y_train, y_test = train_test_split(X, y, test_size=0.25, random_state=42)\n",
    "\n",
    "        # Log and print shapes\n",
    "        train_shape = list(x_train.shape)\n",
    "        train_shape[1] += 1  # Including the target column\n",
    "\n",
    "        test_shape = list(x_test.shape)\n",
    "        test_shape[1] += 1  # Including the target column\n",
    "\n",
    "        logger.info(\"Split data into training and test sets\")\n",
    "        logger.info(f\"Training data shape: {train_shape}\")\n",
    "        logger.info(f\"Testing data shape: {test_shape}\")\n",
    "\n",
    "        print(f\"Training data shape: {train_shape}\")\n",
    "        print(f\"Testing data shape: {test_shape}\")\n",
    "\n",
    "        return x_train, x_test, y_train, y_test\n",
    "\n",
    "\n",
    "\n",
    "    def scaler(self, x_train, x_test):\n",
    "        column_names = x_train.columns\n",
    "        scaler = StandardScaler()\n",
    "        X_train_scaled = scaler.fit_transform(x_train)\n",
    "        X_test_scaled = scaler.transform(x_test)\n",
    "        X_train_scaled_df = pd.DataFrame(X_train_scaled, columns=column_names)\n",
    "        X_test_scaled_df = pd.DataFrame(X_test_scaled, columns=column_names)\n",
    "        return X_train_scaled_df, X_test_scaled_df\n",
    "    \n",
    "    \n",
    "    \n",
    "    def to_write(self, x_train, y_train, x_test, y_test):\n",
    "        # Convert inputs to DataFrames\n",
    "        x_train_df = pd.DataFrame(x_train)\n",
    "        x_test_df = pd.DataFrame(x_test)\n",
    "        y_train_df = pd.DataFrame(y_train)\n",
    "        y_test_df = pd.DataFrame(y_test)\n",
    "    \n",
    "        # Reset indices to avoid issues with concatenation\n",
    "        x_train_df.reset_index(drop=True, inplace=True)\n",
    "        y_train_df.reset_index(drop=True, inplace=True)\n",
    "        x_test_df.reset_index(drop=True, inplace=True)\n",
    "        y_test_df.reset_index(drop=True, inplace=True)\n",
    "        print(y_train_df.head())\n",
    "        # Concatenate features and target columns\n",
    "        train_transformed = pd.concat([x_train_df, y_train_df], axis=1)\n",
    "        test_transformed = pd.concat([x_test_df, y_test_df], axis=1)\n",
    "    \n",
    "        # Save the transformed datasets to CSV files\n",
    "        train_transformed.to_csv(os.path.join(self.config.root_dir, \"transformed_train_data.csv\"), index=False)\n",
    "        test_transformed.to_csv(os.path.join(self.config.root_dir, \"transformed_test_data.csv\"), index=False)\n",
    "    \n",
    "        logger.info(\"Data has been transformed and saved to CSV files\")\n",
    "    "
   ]
  },
  {
   "cell_type": "code",
   "execution_count": 14,
   "metadata": {},
   "outputs": [
    {
     "name": "stdout",
     "output_type": "stream",
     "text": [
      "2024-09-07 18:50:24,666 : INFO : common : yaml file: config\\config.yaml loaded successfully\n",
      "2024-09-07 18:50:24,666 : INFO : common : yaml file: config\\config.yaml loaded successfully\n",
      "2024-09-07 18:50:24,669 : INFO : common : yaml file: params.yaml loaded successfully\n",
      "2024-09-07 18:50:24,669 : INFO : common : yaml file: params.yaml loaded successfully\n",
      "2024-09-07 18:50:24,677 : INFO : common : yaml file: schema.yaml loaded successfully\n",
      "2024-09-07 18:50:24,677 : INFO : common : yaml file: schema.yaml loaded successfully\n",
      "2024-09-07 18:50:24,678 : INFO : common : created directory at: artifacts\n",
      "2024-09-07 18:50:24,678 : INFO : common : created directory at: artifacts\n",
      "2024-09-07 18:50:24,687 : INFO : common : created directory at: artifacts/data_transformation\n",
      "2024-09-07 18:50:24,687 : INFO : common : created directory at: artifacts/data_transformation\n",
      "2024-09-07 18:50:24,742 : INFO : 1103272560 : Split data into training and test sets\n",
      "2024-09-07 18:50:24,742 : INFO : 1103272560 : Split data into training and test sets\n",
      "2024-09-07 18:50:24,742 : INFO : 1103272560 : Training data shape: [857, 12]\n",
      "2024-09-07 18:50:24,742 : INFO : 1103272560 : Training data shape: [857, 12]\n",
      "2024-09-07 18:50:24,748 : INFO : 1103272560 : Testing data shape: [286, 12]\n",
      "2024-09-07 18:50:24,748 : INFO : 1103272560 : Testing data shape: [286, 12]\n",
      "Training data shape: [857, 12]\n",
      "Testing data shape: [286, 12]\n",
      "Empty DataFrame\n",
      "Columns: [target]\n",
      "Index: []\n",
      "2024-09-07 18:50:24,810 : INFO : 1103272560 : Data has been transformed and saved to CSV files\n",
      "2024-09-07 18:50:24,810 : INFO : 1103272560 : Data has been transformed and saved to CSV files\n"
     ]
    }
   ],
   "source": [
    "try:\n",
    "    config = ConfigurationManager()\n",
    "    data_transformation_config = config.get_data_Transformation_config()\n",
    "    data_transformation = DataTransformation(config=data_transformation_config)\n",
    "    transformed_data=data_transformation.remove_skewness()\n",
    "    x_train, x_test, y_train, y_test=data_transformation.train_test_splitting(transformed_data)\n",
    "    X_train_scaled, X_test_scaled=data_transformation.scaler(x_train, x_test)\n",
    "    data_transformation.to_write(X_train_scaled, y_train, X_test_scaled, y_test)\n",
    "except Exception as e:\n",
    "    raise e"
   ]
  }
 ],
 "metadata": {
  "kernelspec": {
   "display_name": "mlproj",
   "language": "python",
   "name": "python3"
  },
  "language_info": {
   "codemirror_mode": {
    "name": "ipython",
    "version": 3
   },
   "file_extension": ".py",
   "mimetype": "text/x-python",
   "name": "python",
   "nbconvert_exporter": "python",
   "pygments_lexer": "ipython3",
   "version": "3.11.5"
  }
 },
 "nbformat": 4,
 "nbformat_minor": 2
}
